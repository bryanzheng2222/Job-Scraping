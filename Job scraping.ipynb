{
  "nbformat": 4,
  "nbformat_minor": 0,
  "metadata": {
    "colab": {
      "name": "Untitled3.ipynb",
      "provenance": [],
      "authorship_tag": "ABX9TyOc5fvyDwqyhR9k3+mQrwkY",
      "include_colab_link": true
    },
    "kernelspec": {
      "name": "python3",
      "display_name": "Python 3"
    },
    "language_info": {
      "name": "python"
    }
  },
  "cells": [
    {
      "cell_type": "markdown",
      "metadata": {
        "id": "view-in-github",
        "colab_type": "text"
      },
      "source": [
        "<a href=\"https://colab.research.google.com/github/bryanzheng2222/Job-Scraping/blob/main/Job%20scraping.ipynb\" target=\"_parent\"><img src=\"https://colab.research.google.com/assets/colab-badge.svg\" alt=\"Open In Colab\"/></a>"
      ]
    },
    {
      "cell_type": "code",
      "execution_count": 44,
      "metadata": {
        "id": "VdO3snVpskPI"
      },
      "outputs": [],
      "source": [
        "import requests, csv, os\n",
        "from random import uniform\n",
        "from hashlib import md5\n",
        "from time import sleep\n",
        "from datetime import date, datetime"
      ]
    },
    {
      "cell_type": "markdown",
      "source": [
        ""
      ],
      "metadata": {
        "id": "XB9kiY6j7kdt"
      }
    },
    {
      "cell_type": "code",
      "source": [
        "def ERROR(skk): print(\"\\033[91m{}\\033[00m\" .format(skk),end='')\n",
        "def RED(skk): print(\"\\033[91m{}\\033[00m\" .format(skk))\n",
        "def GREEN(skk): print(\"\\033[92m{}\\033[00m\" .format(skk))\n",
        "def YELLOW(skk): print(\"\\033[93m{}\\033[00m\" .format(skk))\n",
        "def LIGHTGRAY(skk): print(\"\\033[97m{}\\033[00m\" .format(skk),end='')"
      ],
      "metadata": {
        "id": "5d742Idg7Un9"
      },
      "execution_count": 43,
      "outputs": []
    },
    {
      "cell_type": "code",
      "source": [
        "def writeCsv(name, data):\n",
        "\twith open(name + '.csv', 'a', newline='', encoding='utf_8_sig') as csvfile:\n",
        "\t\tfieldnames = ['company', 'job_title', 'job_type', 'job_location', 'job_link', 'job_description', 'period_from', 'period_to', 'logo', 'md5']\n",
        "\t\twriter = csv.DictWriter(csvfile, fieldnames=fieldnames)\n",
        "\t\tif os.stat(name + '.csv').st_size == 0:\n",
        "\t\t\twriter.writeheader()\n",
        "\t\twriter.writerow(data)"
      ],
      "metadata": {
        "id": "w7YeaZYa3wZl"
      },
      "execution_count": 42,
      "outputs": []
    },
    {
      "cell_type": "code",
      "source": [
        "def randomSleep(statusCode, content, s, e):\n",
        "\trn = round(uniform(s, e), 4)\n",
        "\tLIGHTGRAY('[Status:' + str(statusCode) + ', Size:' + str(round((len(content)/1024),2)) + 'k' + ']')\n",
        "\tGREEN(' sleep for ' + str(rn) +' secound')\n",
        "\tsleep(rn)"
      ],
      "metadata": {
        "id": "kcOdpVgs3296"
      },
      "execution_count": 11,
      "outputs": []
    },
    {
      "cell_type": "code",
      "source": [
        "def getPage(url, base_headers):\n",
        "\ttry:\n",
        "\t\tR = requests.request(\"GET\", url, headers=base_headers)\n",
        "\t\tif R.ok:\n",
        "\t\t\t# GREEN('OK')\n",
        "\t\t\treturn R.text\n",
        "\t\telse:\n",
        "\t\t\traise ValueError(R.reason)\n",
        "\texcept Exception as e:\n",
        "\t\tRED('GET ERROR: ' + str(e.args))\n",
        "\tfinally:\n",
        "\t\trandomSleep(R.status_code, R.content, 3, 9)"
      ],
      "metadata": {
        "id": "gm49P9rc4Svf"
      },
      "execution_count": 12,
      "outputs": []
    },
    {
      "cell_type": "code",
      "source": [
        "def postPage(url, base_headers, payload):\n",
        "\ttry:\n",
        "\t\tR = requests.request(\"POST\", url, headers=base_headers, data=payload)\n",
        "\t\tif R.ok:\n",
        "\t\t\t# print('OK')\n",
        "\t\t\treturn R.text\n",
        "\t\telse:\n",
        "\t\t\traise ValueError(R.reason)\n",
        "\texcept Exception as e:\n",
        "\t\tRED('POST ERROR' + str(e.args))\n",
        "\tfinally:\n",
        "\t\trandomSleep(R.status_code, R.content, 3, 9)"
      ],
      "metadata": {
        "id": "WA-sFhA96u8c"
      },
      "execution_count": 40,
      "outputs": []
    },
    {
      "cell_type": "code",
      "source": [
        "def addJob(data):\n",
        "    result = add(data, 'jobs', 'job_id')\n",
        "    print(result)"
      ],
      "metadata": {
        "id": "IKq0jspZ4XPU"
      },
      "execution_count": 13,
      "outputs": []
    },
    {
      "cell_type": "code",
      "source": [
        "def md5List(name): return query_by_md5(name)"
      ],
      "metadata": {
        "id": "MD33kZxr4chc"
      },
      "execution_count": 14,
      "outputs": []
    },
    {
      "cell_type": "code",
      "source": [
        "def getMd5(data): return md5((bytes(data, 'utf-8'))).hexdigest()"
      ],
      "metadata": {
        "id": "wM37Nm9W41Cv"
      },
      "execution_count": 15,
      "outputs": []
    },
    {
      "cell_type": "code",
      "source": [
        "def toDay(): return date.today().strftime(\"%b-%d-%Y\")"
      ],
      "metadata": {
        "id": "Ks8cuyr149bk"
      },
      "execution_count": 16,
      "outputs": []
    },
    {
      "cell_type": "code",
      "source": [
        "def dumpData(filename, data, mode='w'):\n",
        "\tf = open(filename, mode)\n",
        "\tf.write(data)\n",
        "\tf.close()"
      ],
      "metadata": {
        "id": "eE7zY4cX5C3M"
      },
      "execution_count": 17,
      "outputs": []
    },
    {
      "cell_type": "code",
      "source": [
        "def dumpError(data):\n",
        "\tRED(data['error'])\n",
        "\tdumpData('error.txt', str(data) + '\\r\\n', 'a')\n"
      ],
      "metadata": {
        "id": "y2wb_4795FJ8"
      },
      "execution_count": 18,
      "outputs": []
    },
    {
      "cell_type": "code",
      "source": [
        "def formatDate(date, format):\n",
        "\treturn datetime.strptime(date, format).strftime(\"%b-%d-%Y\")"
      ],
      "metadata": {
        "id": "vImXPWj75HEs"
      },
      "execution_count": 19,
      "outputs": []
    },
    {
      "cell_type": "code",
      "source": [
        "\n",
        "def formatHTML(data):\n",
        "\treturn \"\".join(line.strip() for line in str(data).split(\"\\n\"))"
      ],
      "metadata": {
        "id": "YQWEU_qn5Gho"
      },
      "execution_count": 20,
      "outputs": []
    },
    {
      "cell_type": "code",
      "source": [
        "based_headers = {\n",
        "    'user-agent': \"Mozilla/5.0 (Windows NT 10.0; Win64; x64) AppleWebKit/537.36 (KHTML, like Gecko) Chrome/96.0.4664.110 Safari/537.36\",\n",
        "    'connection': \"keep-alive\",\n",
        "    'upgrade-insecure-requests':\"1\",\n",
        "    'accept': \"text/html,application/xhtml+xml,application/xml;q=0.9,image/avif,image/webp,image/apng,*/*;q=0.8,application/signed-exchange;v=b3;q=0.9\",\n",
        "    'accept-encoding': \"gzip, deflate, br\",\n",
        "    'accept-language': \"en-GB,en-US;q=0.9,en;q=0.8,zh-CN;q=0.7,zh;q=0.6\",\n",
        "    'cache-control': \"no-cache, max-age=0, must-revalidate, no-store\",\n",
        "    }\n",
        "logo = https://jobs.fphcare.com/skins/fph-2017/img/logo.jpg\n",
        "career_url = https://jobs.fphcare.com/search"
      ],
      "metadata": {
        "colab": {
          "base_uri": "https://localhost:8080/",
          "height": 138
        },
        "id": "dFpKqN4jzx_f",
        "outputId": "51fb3600-4e10-4d91-966b-dffd3af26987"
      },
      "execution_count": 39,
      "outputs": [
        {
          "output_type": "error",
          "ename": "SyntaxError",
          "evalue": "ignored",
          "traceback": [
            "\u001b[0;36m  File \u001b[0;32m\"<ipython-input-39-d1a8d265f8a9>\"\u001b[0;36m, line \u001b[0;32m10\u001b[0m\n\u001b[0;31m    logo = https://jobs.fphcare.com/skins/fph-2017/img/logo.jpg\u001b[0m\n\u001b[0m                ^\u001b[0m\n\u001b[0;31mSyntaxError\u001b[0m\u001b[0;31m:\u001b[0m invalid syntax\n"
          ]
        }
      ]
    },
    {
      "cell_type": "code",
      "source": [
        "import ast, sys, traceback"
      ],
      "metadata": {
        "id": "-YznaBBLOkhO"
      },
      "execution_count": 21,
      "outputs": []
    },
    {
      "cell_type": "code",
      "source": [
        "sys.path.append('../')"
      ],
      "metadata": {
        "id": "DvzoLKhyOo4K"
      },
      "execution_count": 22,
      "outputs": []
    },
    {
      "cell_type": "code",
      "source": [
        "from bs4 import BeautifulSoup\n",
        "from configparser import RawConfigParser"
      ],
      "metadata": {
        "id": "JWv0FqUbOtuT"
      },
      "execution_count": 24,
      "outputs": []
    },
    {
      "cell_type": "code",
      "source": [
        "pip install common"
      ],
      "metadata": {
        "colab": {
          "base_uri": "https://localhost:8080/"
        },
        "id": "Fse4txdkSgG4",
        "outputId": "f75a8bbe-0521-44f6-d293-fb17642717df"
      },
      "execution_count": 30,
      "outputs": [
        {
          "output_type": "stream",
          "name": "stdout",
          "text": [
            "Requirement already satisfied: common in /usr/local/lib/python3.7/dist-packages (0.1.2)\n"
          ]
        }
      ]
    },
    {
      "cell_type": "code",
      "source": [
        "from common import dumpError, getPage, addJob, getMd5, md5List, toDay, formatDate, formatHTML, GREEN, YELLOW"
      ],
      "metadata": {
        "colab": {
          "base_uri": "https://localhost:8080/",
          "height": 322
        },
        "id": "rmdCM_KMSYh2",
        "outputId": "4dab7060-1d8b-4b1d-f30c-e88edcf616f3"
      },
      "execution_count": 31,
      "outputs": [
        {
          "output_type": "error",
          "ename": "ImportError",
          "evalue": "ignored",
          "traceback": [
            "\u001b[0;31m---------------------------------------------------------------------------\u001b[0m",
            "\u001b[0;31mImportError\u001b[0m                               Traceback (most recent call last)",
            "\u001b[0;32m<ipython-input-31-c8de38997828>\u001b[0m in \u001b[0;36m<module>\u001b[0;34m()\u001b[0m\n\u001b[0;32m----> 1\u001b[0;31m \u001b[0;32mfrom\u001b[0m \u001b[0mcommon\u001b[0m \u001b[0;32mimport\u001b[0m \u001b[0mdumpError\u001b[0m\u001b[0;34m,\u001b[0m \u001b[0mgetPage\u001b[0m\u001b[0;34m,\u001b[0m \u001b[0maddJob\u001b[0m\u001b[0;34m,\u001b[0m \u001b[0mgetMd5\u001b[0m\u001b[0;34m,\u001b[0m \u001b[0mmd5List\u001b[0m\u001b[0;34m,\u001b[0m \u001b[0mtoDay\u001b[0m\u001b[0;34m,\u001b[0m \u001b[0mformatDate\u001b[0m\u001b[0;34m,\u001b[0m \u001b[0mformatHTML\u001b[0m\u001b[0;34m,\u001b[0m \u001b[0mGREEN\u001b[0m\u001b[0;34m,\u001b[0m \u001b[0mYELLOW\u001b[0m\u001b[0;34m\u001b[0m\u001b[0;34m\u001b[0m\u001b[0m\n\u001b[0m",
            "\u001b[0;31mImportError\u001b[0m: cannot import name 'dumpError' from 'common' (/usr/local/lib/python3.7/dist-packages/common/__init__.py)",
            "",
            "\u001b[0;31m---------------------------------------------------------------------------\u001b[0;32m\nNOTE: If your import is failing due to a missing package, you can\nmanually install dependencies using either !pip or !apt.\n\nTo view examples of installing some common dependencies, click the\n\"Open Examples\" button below.\n\u001b[0;31m---------------------------------------------------------------------------\u001b[0m\n"
          ],
          "errorDetails": {
            "actions": [
              {
                "action": "open_url",
                "actionText": "Open Examples",
                "url": "/notebooks/snippets/importing_libraries.ipynb"
              }
            ]
          }
        }
      ]
    },
    {
      "cell_type": "code",
      "source": [
        "class fisherpaykel:\n",
        "  def __init__(self):\n",
        "    config = RawConfigParser()\n",
        "    config.read('webConfig/fisherpaykel.ini')\n",
        "    self.logo = config['fisherpaykel']['logo']\n",
        "    self.career_url = config['fisherpaykel']['career_url']\n",
        "    self.base_headers = ast.literal_eval(config['fisherpaykel']['base_headers'])\n",
        "    self.soup = BeautifulSoup(getPage(self.career_url, self.base_headers),features = 'html.parser')\n"
      ],
      "metadata": {
        "id": "tDtw6pEBTaZZ"
      },
      "execution_count": 35,
      "outputs": []
    },
    {
      "cell_type": "code",
      "source": [
        "def findjob(self, name):\n",
        "  jobList = self.soup.find ('div',class_= 'job-list').find_all('div',class_='clicker-wrapper')\n",
        "  existJobList = md5List(name)\n",
        "\n",
        "  for job in jobList:\n",
        "    D = {}\n",
        "    jobLink = job.h3.a.attrs['href']\n",
        "    jobTitle = job.h3.a.string.strip()\n",
        "    jobMd5 = getMd5(jobLink + jobTitle)\n",
        "\n",
        "    if existJobList.count(jobMd5) > 0:\n",
        "      GREEN ('Job exists in db')\n",
        "\n",
        "    else: \n",
        "      YELLOW('[' + name + ']' + ' Adding......' + jobTitle)\n",
        "      D['company'] = name\n",
        "      D['job_link'] = jobLink\n",
        "      D['job_title'] = jobTitle\n",
        "      D['job_location'] = job.find ('span',class_='locationValue').string\n",
        "      D['job_type'] = job.find('td',class_='sh_label').find_all('span')[0].string\n",
        "      D['period_from'] = toDay()\n",
        "      D['md5'] = jobMd5\n",
        "      D['logo'] = self.logo\n",
        "      try:\n",
        "          jdPage = BeautifulSoup(getPage(jobLink,self.base_headers),features='html.parser')\n",
        "          D['period_to'] = formatDate(jdPage.find('div', class_='Expertise').find_all('td')[0].contents[0].string),\n",
        "          D['job_description'] = formatHTML(jdPage.find('div',class_='description'))\n",
        "          addJob(D)\n",
        "      except:\n",
        "        D['error'] = traceback.format_exc()\n",
        "        dumpError(D)\n"
      ],
      "metadata": {
        "id": "OnBNjxCTZ_PH"
      },
      "execution_count": 37,
      "outputs": []
    },
    {
      "cell_type": "code",
      "source": [
        ""
      ],
      "metadata": {
        "id": "LWsH6hTKcx4P"
      },
      "execution_count": null,
      "outputs": []
    }
  ]
}